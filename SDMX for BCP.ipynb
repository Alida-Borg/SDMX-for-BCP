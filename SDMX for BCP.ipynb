{
 "cells": [
  {
   "cell_type": "code",
   "execution_count": null,
   "id": "f39515f2",
   "metadata": {},
   "outputs": [],
   "source": [
    "from lxml import etree\n",
    "\n",
    "# Load the XML file\n",
    "tree = etree.parse(r'C:\\Users\\borga\\IF_M_DIFF_20240430.xml')\n",
    "root = tree.getroot()\n",
    "\n",
    "# Find all Series tags\n",
    "series_tags = root.findall('.//Series')\n",
    "\n",
    "# Loop through each Series tag where DATA_TYPE is \"1\"\n",
    "for series_tag in series_tags:\n",
    "    # Retrieve the DATA_TYPE attribute from the series tag\n",
    "    data_type = series_tag.get('DATA_TYPE')\n",
    "    \n",
    "    # Only process if DATA_TYPE is \"1\"\n",
    "    if data_type == \"1\":\n",
    "        obs_tags = series_tag.findall('.//Obs')\n",
    "        for obs_tag in obs_tags:\n",
    "            obs_value = obs_tag.get('OBS_VALUE')\n",
    "            if obs_value != \"-\":\n",
    "                obs_tag.set('OBS_STATUS', 'E')  # Set OBS_STATUS differently for DATA_TYPE = \"1\"\n",
    "\n",
    "# Loop through each Series tag where DATA_TYPE is not \"1\"\n",
    "for series_tag in series_tags:\n",
    "    # Retrieve the DATA_TYPE attribute from the series tag\n",
    "    data_type = series_tag.get('DATA_TYPE')\n",
    "    \n",
    "    # Only process if DATA_TYPE is not \"1\"\n",
    "    if data_type != \"1\":\n",
    "        obs_tags = series_tag.findall('.//Obs')\n",
    "        for obs_tag in obs_tags:\n",
    "            obs_value = obs_tag.get('OBS_VALUE')\n",
    "            if obs_value != \"-\":\n",
    "                obs_tag.set('OBS_VALUE', '0.00')\n",
    "                obs_tag.set('OBS_STATUS', 'E')  # Set OBS_STATUS differently for DATA_TYPE <> \"1\"\n",
    "\n",
    "# Loop through each Series tag to change the TIME_PERIOD to the desired reference period\n",
    "for series_tag in series_tags:\n",
    "    obs_tags = series_tag.findall('.//Obs')\n",
    "    for obs_tag in obs_tags:\n",
    "        time_period = obs_tag.get('TIME_PERIOD')\n",
    "        obs_tag.set('TIME_PERIOD', '2024-04')  # Set TIME_PERIOD differently for all series\n",
    "\n",
    "# Save the modified XML\n",
    "tree.write(r'C:\\Users\\borga\\IF_M_DIFF_20240430_BCP.xml', encoding='utf-8', xml_declaration=True)"
   ]
  }
 ],
 "metadata": {
  "kernelspec": {
   "display_name": "Python 3 (ipykernel)",
   "language": "python",
   "name": "python3"
  },
  "language_info": {
   "codemirror_mode": {
    "name": "ipython",
    "version": 3
   },
   "file_extension": ".py",
   "mimetype": "text/x-python",
   "name": "python",
   "nbconvert_exporter": "python",
   "pygments_lexer": "ipython3",
   "version": "3.9.13"
  }
 },
 "nbformat": 4,
 "nbformat_minor": 5
}
